{
 "cells": [
  {
   "cell_type": "code",
   "execution_count": 3,
   "metadata": {},
   "outputs": [],
   "source": [
    "#NumPy : Numerical Python\n",
    "# Faster and Easy Maths\n",
    "import numpy as np"
   ]
  },
  {
   "cell_type": "markdown",
   "metadata": {},
   "source": [
    "List vs Numpy : Time Taken"
   ]
  },
  {
   "cell_type": "code",
   "execution_count": 2,
   "metadata": {},
   "outputs": [
    {
     "name": "stdout",
     "output_type": "stream",
     "text": [
      "6.3426735899999995\n",
      "0.23720661200000137\n"
     ]
    }
   ],
   "source": [
    "from time import process_time\n",
    "\n",
    "#Lists\n",
    "lst = [i for i in range(10**8)]\n",
    "start_time = process_time()\n",
    "lst = [i+5 for i in lst]\n",
    "end_time = process_time()\n",
    "print(end_time - start_time)\n",
    "\n",
    "#Numpy Arrays\n",
    "arr = np.array([i for i in range(10**8)])\n",
    "start_time = process_time()\n",
    "arr = arr + 5\n",
    "end_time = process_time()\n",
    "print(end_time - start_time)"
   ]
  },
  {
   "cell_type": "markdown",
   "metadata": {},
   "source": [
    "Numpy Arrays"
   ]
  },
  {
   "cell_type": "code",
   "execution_count": 6,
   "metadata": {},
   "outputs": [
    {
     "name": "stdout",
     "output_type": "stream",
     "text": [
      "[1, 2, 3, 4, 5]\n",
      "<class 'list'>\n",
      "[1 2 3 4 5]\n",
      "<class 'numpy.ndarray'>\n"
     ]
    }
   ],
   "source": [
    "#Lists\n",
    "list1 = [1,2,3,4,5]\n",
    "print(list1)\n",
    "print(type(list1))\n",
    "\n",
    "#Numpy Arrays\n",
    "arr = np.array([1,2,3,4,5])\n",
    "print(arr)\n",
    "print(type(arr))"
   ]
  },
  {
   "cell_type": "code",
   "execution_count": 12,
   "metadata": {},
   "outputs": [
    {
     "name": "stdout",
     "output_type": "stream",
     "text": [
      "[[1 2 3 4]\n",
      " [5 6 7 8]]\n",
      "[[1. 2. 3. 4.]\n",
      " [2. 3. 4. 5.]]\n"
     ]
    }
   ],
   "source": [
    "# 1D and 2D Arrays\n",
    "a = np.array([1,2,3,4,5])\n",
    "a.shape\n",
    "\n",
    "b = np.array([(1,2,3,4),(5,6,7,8)])\n",
    "print(b)\n",
    "b.shape\n",
    "\n",
    "#Changing Datatype\n",
    "b = np.array([(1,2,3,4),(2,3,4,5)],dtype=float)\n",
    "print(b)"
   ]
  },
  {
   "cell_type": "markdown",
   "metadata": {},
   "source": [
    "Initial Placeholders in NumPy Arrays"
   ]
  },
  {
   "cell_type": "code",
   "execution_count": 14,
   "metadata": {},
   "outputs": [
    {
     "name": "stdout",
     "output_type": "stream",
     "text": [
      "[[0. 0. 0. 0. 0.]\n",
      " [0. 0. 0. 0. 0.]\n",
      " [0. 0. 0. 0. 0.]]\n"
     ]
    }
   ],
   "source": [
    "#Zeros Array\n",
    "a = np.zeros((3,5))\n",
    "print(a)"
   ]
  },
  {
   "cell_type": "code",
   "execution_count": 15,
   "metadata": {},
   "outputs": [
    {
     "name": "stdout",
     "output_type": "stream",
     "text": [
      "[[1. 1. 1. 1. 1. 1.]\n",
      " [1. 1. 1. 1. 1. 1.]\n",
      " [1. 1. 1. 1. 1. 1.]\n",
      " [1. 1. 1. 1. 1. 1.]\n",
      " [1. 1. 1. 1. 1. 1.]]\n"
     ]
    }
   ],
   "source": [
    "#Ones Array\n",
    "b = np.ones((5,6))\n",
    "print(b)"
   ]
  },
  {
   "cell_type": "code",
   "execution_count": 19,
   "metadata": {},
   "outputs": [
    {
     "name": "stdout",
     "output_type": "stream",
     "text": [
      "[[5 5 5 5 5]\n",
      " [5 5 5 5 5]\n",
      " [5 5 5 5 5]\n",
      " [5 5 5 5 5]]\n"
     ]
    }
   ],
   "source": [
    "#Particular Value\n",
    "b = np.full((4,5),5)\n",
    "print(b)"
   ]
  },
  {
   "cell_type": "code",
   "execution_count": 16,
   "metadata": {},
   "outputs": [
    {
     "name": "stdout",
     "output_type": "stream",
     "text": [
      "[[0.87467799 0.71954532 0.15362287 0.79172083]\n",
      " [0.5344414  0.09555681 0.51716585 0.92943823]\n",
      " [0.67730955 0.01424612 0.92438358 0.56742091]]\n"
     ]
    }
   ],
   "source": [
    "#Random Values b/w 0 and 1\n",
    "c = np.random.random((3,4))\n",
    "print(c)"
   ]
  },
  {
   "cell_type": "code",
   "execution_count": 18,
   "metadata": {},
   "outputs": [
    {
     "name": "stdout",
     "output_type": "stream",
     "text": [
      "[[30 91 83 11 81]\n",
      " [24 41 38 86 78]\n",
      " [ 4  9 47 96 19]\n",
      " [81 30 79 60 31]]\n"
     ]
    }
   ],
   "source": [
    "#Randdom Integers\n",
    "d = np.random.randint(0,100,(4,5))\n",
    "print(d)"
   ]
  },
  {
   "cell_type": "code",
   "execution_count": 20,
   "metadata": {},
   "outputs": [
    {
     "name": "stdout",
     "output_type": "stream",
     "text": [
      "[[1. 0. 0. 0. 0.]\n",
      " [0. 1. 0. 0. 0.]\n",
      " [0. 0. 1. 0. 0.]\n",
      " [0. 0. 0. 1. 0.]\n",
      " [0. 0. 0. 0. 1.]]\n"
     ]
    }
   ],
   "source": [
    "#Identity Maxtrix\n",
    "e = np.eye(5)\n",
    "print(e)"
   ]
  },
  {
   "cell_type": "code",
   "execution_count": 24,
   "metadata": {},
   "outputs": [
    {
     "name": "stdout",
     "output_type": "stream",
     "text": [
      "[10. 12. 14. 16. 18. 20.]\n"
     ]
    }
   ],
   "source": [
    "#Evenly Spaced\n",
    "e = np.linspace(10,20,6)\n",
    "print(e)"
   ]
  },
  {
   "cell_type": "code",
   "execution_count": 27,
   "metadata": {},
   "outputs": [
    {
     "name": "stdout",
     "output_type": "stream",
     "text": [
      "[1 2 3 4 5]\n"
     ]
    },
    {
     "data": {
      "text/plain": [
       "numpy.ndarray"
      ]
     },
     "execution_count": 27,
     "metadata": {},
     "output_type": "execute_result"
    }
   ],
   "source": [
    "#List to Numpy Array\n",
    "list1 = [1,2,3,4,5]\n",
    "np_array = np.asarray(list1)\n",
    "print(np_array)\n",
    "np_array.shape\n",
    "type(np_array)"
   ]
  },
  {
   "cell_type": "markdown",
   "metadata": {},
   "source": [
    "Analyzing Numpy Arrays"
   ]
  },
  {
   "cell_type": "code",
   "execution_count": 29,
   "metadata": {},
   "outputs": [
    {
     "name": "stdout",
     "output_type": "stream",
     "text": [
      "(4, 5)\n",
      "2\n",
      "20\n",
      "int64\n"
     ]
    }
   ],
   "source": [
    "c = np.random.randint(10,20,(4,5))\n",
    "print(c.shape)\n",
    "print(c.ndim)\n",
    "print(c.size)\n",
    "print(c.dtype)"
   ]
  },
  {
   "cell_type": "markdown",
   "metadata": {},
   "source": [
    "Mathematical Operations"
   ]
  },
  {
   "cell_type": "code",
   "execution_count": 35,
   "metadata": {},
   "outputs": [
    {
     "name": "stdout",
     "output_type": "stream",
     "text": [
      "[[22 18]\n",
      " [18 18]\n",
      " [13 20]] \n",
      "\n",
      "[[-16  -8]\n",
      " [-10 -16]\n",
      " [ -9  -2]] \n",
      "\n",
      "[[57 65]\n",
      " [56 17]\n",
      " [22 99]] \n",
      "\n",
      "[[0.15789474 0.38461538]\n",
      " [0.28571429 0.05882353]\n",
      " [0.18181818 0.81818182]] \n",
      "\n",
      "[1, 2, 3, 4, 5, 6]\n"
     ]
    }
   ],
   "source": [
    "a = np.random.randint(0,10,(3,2))\n",
    "b = np.random.randint(10,20,(3,2))\n",
    "\n",
    "print(a+b,\"\\n\")\n",
    "print(a-b,\"\\n\")\n",
    "print(a*b,\"\\n\")\n",
    "print(a/b,\"\\n\")\n",
    "\n",
    "list1 = [1,2,3]\n",
    "list2 = [4,5,6]\n",
    "\n",
    "print(list1+list2)"
   ]
  },
  {
   "cell_type": "code",
   "execution_count": 37,
   "metadata": {},
   "outputs": [
    {
     "name": "stdout",
     "output_type": "stream",
     "text": [
      "[[22 18]\n",
      " [18 18]\n",
      " [13 20]] \n",
      "\n",
      "[[-16  -8]\n",
      " [-10 -16]\n",
      " [ -9  -2]] \n",
      "\n",
      "[[57 65]\n",
      " [56 17]\n",
      " [22 99]] \n",
      "\n",
      "[[0.15789474 0.38461538]\n",
      " [0.28571429 0.05882353]\n",
      " [0.18181818 0.81818182]] \n",
      "\n"
     ]
    }
   ],
   "source": [
    "print(np.add(a,b),\"\\n\")\n",
    "print(np.subtract(a,b),\"\\n\")\n",
    "print(np.multiply(a,b),\"\\n\")\n",
    "print(np.divide(a,b),\"\\n\")"
   ]
  },
  {
   "cell_type": "markdown",
   "metadata": {},
   "source": [
    "Array Manipulation"
   ]
  },
  {
   "cell_type": "code",
   "execution_count": 42,
   "metadata": {},
   "outputs": [
    {
     "name": "stdout",
     "output_type": "stream",
     "text": [
      "[[4 8 0 1]\n",
      " [7 2 5 7]]\n",
      "\n",
      "[[4 7]\n",
      " [8 2]\n",
      " [0 5]\n",
      " [1 7]]\n",
      "(4, 2)\n",
      "\n",
      "[[4 7]\n",
      " [8 2]\n",
      " [0 5]\n",
      " [1 7]]\n"
     ]
    },
    {
     "data": {
      "text/plain": [
       "(4, 2)"
      ]
     },
     "execution_count": 42,
     "metadata": {},
     "output_type": "execute_result"
    }
   ],
   "source": [
    "a = np.random.randint(0,10,(2,4))\n",
    "print(a)\n",
    "\n",
    "#transpose\n",
    "b = np.transpose(a)\n",
    "print()\n",
    "print(b)\n",
    "print(b.shape)\n",
    "\n",
    "c = a.T\n",
    "print()\n",
    "print(c)\n",
    "c.shape"
   ]
  },
  {
   "cell_type": "code",
   "execution_count": 52,
   "metadata": {},
   "outputs": [
    {
     "name": "stdout",
     "output_type": "stream",
     "text": [
      "[[3 4 6 3 3 5]\n",
      " [0 1 1 4 3 3]\n",
      " [4 1 7 9 5 1]\n",
      " [9 3 1 8 3 9]\n",
      " [7 1 9 1 1 7]] \n",
      "\n",
      "(5, 6)\n",
      "\n",
      "[[3 4 6 3 3]\n",
      " [5 0 1 1 4]\n",
      " [3 3 4 1 7]\n",
      " [9 5 1 9 3]\n",
      " [1 8 3 9 7]\n",
      " [1 9 1 1 7]]\n",
      "(6, 5)\n"
     ]
    }
   ],
   "source": [
    "#Reshaping an Array\n",
    "a = np.random.randint(0,10,(5,6))\n",
    "print(a,\"\\n\")\n",
    "print(a.shape)\n",
    "\n",
    "print()\n",
    "a = a.reshape(6,5)\n",
    "print(a)\n",
    "print(a.shape)"
   ]
  }
 ],
 "metadata": {
  "kernelspec": {
   "display_name": "Python 3",
   "language": "python",
   "name": "python3"
  },
  "language_info": {
   "codemirror_mode": {
    "name": "ipython",
    "version": 3
   },
   "file_extension": ".py",
   "mimetype": "text/x-python",
   "name": "python",
   "nbconvert_exporter": "python",
   "pygments_lexer": "ipython3",
   "version": "3.12.1"
  }
 },
 "nbformat": 4,
 "nbformat_minor": 2
}
